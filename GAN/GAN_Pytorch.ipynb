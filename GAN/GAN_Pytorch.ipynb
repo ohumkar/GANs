{
  "nbformat": 4,
  "nbformat_minor": 0,
  "metadata": {
    "colab": {
      "name": "GAN Pytorch.ipynb",
      "provenance": [],
      "collapsed_sections": [],
      "toc_visible": true,
      "authorship_tag": "ABX9TyNHwrax9s0T4q96CTJyzapl",
      "include_colab_link": true
    },
    "kernelspec": {
      "name": "python3",
      "display_name": "Python 3"
    },
    "accelerator": "GPU",
    "widgets": {
      "application/vnd.jupyter.widget-state+json": {
        "97a8c4e0a7df4f2c8359298c6e7dd57f": {
          "model_module": "@jupyter-widgets/controls",
          "model_name": "HBoxModel",
          "state": {
            "_view_name": "HBoxView",
            "_dom_classes": [],
            "_model_name": "HBoxModel",
            "_view_module": "@jupyter-widgets/controls",
            "_model_module_version": "1.5.0",
            "_view_count": null,
            "_view_module_version": "1.5.0",
            "box_style": "",
            "layout": "IPY_MODEL_db085fe491e64295bc1e726aab3c826d",
            "_model_module": "@jupyter-widgets/controls",
            "children": [
              "IPY_MODEL_10ccbacb907d4fdb867fac838de2b773",
              "IPY_MODEL_6e076e9ad6b34aad99a6de434940be5b"
            ]
          }
        },
        "db085fe491e64295bc1e726aab3c826d": {
          "model_module": "@jupyter-widgets/base",
          "model_name": "LayoutModel",
          "state": {
            "_view_name": "LayoutView",
            "grid_template_rows": null,
            "right": null,
            "justify_content": null,
            "_view_module": "@jupyter-widgets/base",
            "overflow": null,
            "_model_module_version": "1.2.0",
            "_view_count": null,
            "flex_flow": null,
            "width": null,
            "min_width": null,
            "border": null,
            "align_items": null,
            "bottom": null,
            "_model_module": "@jupyter-widgets/base",
            "top": null,
            "grid_column": null,
            "overflow_y": null,
            "overflow_x": null,
            "grid_auto_flow": null,
            "grid_area": null,
            "grid_template_columns": null,
            "flex": null,
            "_model_name": "LayoutModel",
            "justify_items": null,
            "grid_row": null,
            "max_height": null,
            "align_content": null,
            "visibility": null,
            "align_self": null,
            "height": null,
            "min_height": null,
            "padding": null,
            "grid_auto_rows": null,
            "grid_gap": null,
            "max_width": null,
            "order": null,
            "_view_module_version": "1.2.0",
            "grid_template_areas": null,
            "object_position": null,
            "object_fit": null,
            "grid_auto_columns": null,
            "margin": null,
            "display": null,
            "left": null
          }
        },
        "10ccbacb907d4fdb867fac838de2b773": {
          "model_module": "@jupyter-widgets/controls",
          "model_name": "IntProgressModel",
          "state": {
            "_view_name": "ProgressView",
            "style": "IPY_MODEL_db823a78768e45a1b47daf2a4e252abc",
            "_dom_classes": [],
            "description": "",
            "_model_name": "IntProgressModel",
            "bar_style": "success",
            "max": 1,
            "_view_module": "@jupyter-widgets/controls",
            "_model_module_version": "1.5.0",
            "value": 1,
            "_view_count": null,
            "_view_module_version": "1.5.0",
            "orientation": "horizontal",
            "min": 0,
            "description_tooltip": null,
            "_model_module": "@jupyter-widgets/controls",
            "layout": "IPY_MODEL_d03e16834bb54b219456f48d982ee13f"
          }
        },
        "6e076e9ad6b34aad99a6de434940be5b": {
          "model_module": "@jupyter-widgets/controls",
          "model_name": "HTMLModel",
          "state": {
            "_view_name": "HTMLView",
            "style": "IPY_MODEL_305a6275305b4f95a5e58d5b085fb5ad",
            "_dom_classes": [],
            "description": "",
            "_model_name": "HTMLModel",
            "placeholder": "​",
            "_view_module": "@jupyter-widgets/controls",
            "_model_module_version": "1.5.0",
            "value": "9920512it [00:01, 9439317.25it/s]",
            "_view_count": null,
            "_view_module_version": "1.5.0",
            "description_tooltip": null,
            "_model_module": "@jupyter-widgets/controls",
            "layout": "IPY_MODEL_4e06f16438e5467d9240631ef6f93b81"
          }
        },
        "db823a78768e45a1b47daf2a4e252abc": {
          "model_module": "@jupyter-widgets/controls",
          "model_name": "ProgressStyleModel",
          "state": {
            "_view_name": "StyleView",
            "_model_name": "ProgressStyleModel",
            "description_width": "",
            "_view_module": "@jupyter-widgets/base",
            "_model_module_version": "1.5.0",
            "_view_count": null,
            "_view_module_version": "1.2.0",
            "bar_color": null,
            "_model_module": "@jupyter-widgets/controls"
          }
        },
        "d03e16834bb54b219456f48d982ee13f": {
          "model_module": "@jupyter-widgets/base",
          "model_name": "LayoutModel",
          "state": {
            "_view_name": "LayoutView",
            "grid_template_rows": null,
            "right": null,
            "justify_content": null,
            "_view_module": "@jupyter-widgets/base",
            "overflow": null,
            "_model_module_version": "1.2.0",
            "_view_count": null,
            "flex_flow": null,
            "width": null,
            "min_width": null,
            "border": null,
            "align_items": null,
            "bottom": null,
            "_model_module": "@jupyter-widgets/base",
            "top": null,
            "grid_column": null,
            "overflow_y": null,
            "overflow_x": null,
            "grid_auto_flow": null,
            "grid_area": null,
            "grid_template_columns": null,
            "flex": null,
            "_model_name": "LayoutModel",
            "justify_items": null,
            "grid_row": null,
            "max_height": null,
            "align_content": null,
            "visibility": null,
            "align_self": null,
            "height": null,
            "min_height": null,
            "padding": null,
            "grid_auto_rows": null,
            "grid_gap": null,
            "max_width": null,
            "order": null,
            "_view_module_version": "1.2.0",
            "grid_template_areas": null,
            "object_position": null,
            "object_fit": null,
            "grid_auto_columns": null,
            "margin": null,
            "display": null,
            "left": null
          }
        },
        "305a6275305b4f95a5e58d5b085fb5ad": {
          "model_module": "@jupyter-widgets/controls",
          "model_name": "DescriptionStyleModel",
          "state": {
            "_view_name": "StyleView",
            "_model_name": "DescriptionStyleModel",
            "description_width": "",
            "_view_module": "@jupyter-widgets/base",
            "_model_module_version": "1.5.0",
            "_view_count": null,
            "_view_module_version": "1.2.0",
            "_model_module": "@jupyter-widgets/controls"
          }
        },
        "4e06f16438e5467d9240631ef6f93b81": {
          "model_module": "@jupyter-widgets/base",
          "model_name": "LayoutModel",
          "state": {
            "_view_name": "LayoutView",
            "grid_template_rows": null,
            "right": null,
            "justify_content": null,
            "_view_module": "@jupyter-widgets/base",
            "overflow": null,
            "_model_module_version": "1.2.0",
            "_view_count": null,
            "flex_flow": null,
            "width": null,
            "min_width": null,
            "border": null,
            "align_items": null,
            "bottom": null,
            "_model_module": "@jupyter-widgets/base",
            "top": null,
            "grid_column": null,
            "overflow_y": null,
            "overflow_x": null,
            "grid_auto_flow": null,
            "grid_area": null,
            "grid_template_columns": null,
            "flex": null,
            "_model_name": "LayoutModel",
            "justify_items": null,
            "grid_row": null,
            "max_height": null,
            "align_content": null,
            "visibility": null,
            "align_self": null,
            "height": null,
            "min_height": null,
            "padding": null,
            "grid_auto_rows": null,
            "grid_gap": null,
            "max_width": null,
            "order": null,
            "_view_module_version": "1.2.0",
            "grid_template_areas": null,
            "object_position": null,
            "object_fit": null,
            "grid_auto_columns": null,
            "margin": null,
            "display": null,
            "left": null
          }
        },
        "b045f1bd16ab4f47a2a95d2aa5822078": {
          "model_module": "@jupyter-widgets/controls",
          "model_name": "HBoxModel",
          "state": {
            "_view_name": "HBoxView",
            "_dom_classes": [],
            "_model_name": "HBoxModel",
            "_view_module": "@jupyter-widgets/controls",
            "_model_module_version": "1.5.0",
            "_view_count": null,
            "_view_module_version": "1.5.0",
            "box_style": "",
            "layout": "IPY_MODEL_c213522000c042909f8e2f36f1f16d64",
            "_model_module": "@jupyter-widgets/controls",
            "children": [
              "IPY_MODEL_ddca9cf8bedd4c90911a158a21e671e7",
              "IPY_MODEL_4f5374542aee40889ed3bf0c0d730e6d"
            ]
          }
        },
        "c213522000c042909f8e2f36f1f16d64": {
          "model_module": "@jupyter-widgets/base",
          "model_name": "LayoutModel",
          "state": {
            "_view_name": "LayoutView",
            "grid_template_rows": null,
            "right": null,
            "justify_content": null,
            "_view_module": "@jupyter-widgets/base",
            "overflow": null,
            "_model_module_version": "1.2.0",
            "_view_count": null,
            "flex_flow": null,
            "width": null,
            "min_width": null,
            "border": null,
            "align_items": null,
            "bottom": null,
            "_model_module": "@jupyter-widgets/base",
            "top": null,
            "grid_column": null,
            "overflow_y": null,
            "overflow_x": null,
            "grid_auto_flow": null,
            "grid_area": null,
            "grid_template_columns": null,
            "flex": null,
            "_model_name": "LayoutModel",
            "justify_items": null,
            "grid_row": null,
            "max_height": null,
            "align_content": null,
            "visibility": null,
            "align_self": null,
            "height": null,
            "min_height": null,
            "padding": null,
            "grid_auto_rows": null,
            "grid_gap": null,
            "max_width": null,
            "order": null,
            "_view_module_version": "1.2.0",
            "grid_template_areas": null,
            "object_position": null,
            "object_fit": null,
            "grid_auto_columns": null,
            "margin": null,
            "display": null,
            "left": null
          }
        },
        "ddca9cf8bedd4c90911a158a21e671e7": {
          "model_module": "@jupyter-widgets/controls",
          "model_name": "IntProgressModel",
          "state": {
            "_view_name": "ProgressView",
            "style": "IPY_MODEL_06170019354d4eea94826aeada343f2b",
            "_dom_classes": [],
            "description": "",
            "_model_name": "IntProgressModel",
            "bar_style": "success",
            "max": 1,
            "_view_module": "@jupyter-widgets/controls",
            "_model_module_version": "1.5.0",
            "value": 1,
            "_view_count": null,
            "_view_module_version": "1.5.0",
            "orientation": "horizontal",
            "min": 0,
            "description_tooltip": null,
            "_model_module": "@jupyter-widgets/controls",
            "layout": "IPY_MODEL_272e7a8de8724db7ad70342fe23a7ae6"
          }
        },
        "4f5374542aee40889ed3bf0c0d730e6d": {
          "model_module": "@jupyter-widgets/controls",
          "model_name": "HTMLModel",
          "state": {
            "_view_name": "HTMLView",
            "style": "IPY_MODEL_d0425b1e3b024466994e61f9c3a47592",
            "_dom_classes": [],
            "description": "",
            "_model_name": "HTMLModel",
            "placeholder": "​",
            "_view_module": "@jupyter-widgets/controls",
            "_model_module_version": "1.5.0",
            "value": "32768it [00:00, 104613.61it/s]",
            "_view_count": null,
            "_view_module_version": "1.5.0",
            "description_tooltip": null,
            "_model_module": "@jupyter-widgets/controls",
            "layout": "IPY_MODEL_cc9b729a399e4addbb129dafd3cbc999"
          }
        },
        "06170019354d4eea94826aeada343f2b": {
          "model_module": "@jupyter-widgets/controls",
          "model_name": "ProgressStyleModel",
          "state": {
            "_view_name": "StyleView",
            "_model_name": "ProgressStyleModel",
            "description_width": "",
            "_view_module": "@jupyter-widgets/base",
            "_model_module_version": "1.5.0",
            "_view_count": null,
            "_view_module_version": "1.2.0",
            "bar_color": null,
            "_model_module": "@jupyter-widgets/controls"
          }
        },
        "272e7a8de8724db7ad70342fe23a7ae6": {
          "model_module": "@jupyter-widgets/base",
          "model_name": "LayoutModel",
          "state": {
            "_view_name": "LayoutView",
            "grid_template_rows": null,
            "right": null,
            "justify_content": null,
            "_view_module": "@jupyter-widgets/base",
            "overflow": null,
            "_model_module_version": "1.2.0",
            "_view_count": null,
            "flex_flow": null,
            "width": null,
            "min_width": null,
            "border": null,
            "align_items": null,
            "bottom": null,
            "_model_module": "@jupyter-widgets/base",
            "top": null,
            "grid_column": null,
            "overflow_y": null,
            "overflow_x": null,
            "grid_auto_flow": null,
            "grid_area": null,
            "grid_template_columns": null,
            "flex": null,
            "_model_name": "LayoutModel",
            "justify_items": null,
            "grid_row": null,
            "max_height": null,
            "align_content": null,
            "visibility": null,
            "align_self": null,
            "height": null,
            "min_height": null,
            "padding": null,
            "grid_auto_rows": null,
            "grid_gap": null,
            "max_width": null,
            "order": null,
            "_view_module_version": "1.2.0",
            "grid_template_areas": null,
            "object_position": null,
            "object_fit": null,
            "grid_auto_columns": null,
            "margin": null,
            "display": null,
            "left": null
          }
        },
        "d0425b1e3b024466994e61f9c3a47592": {
          "model_module": "@jupyter-widgets/controls",
          "model_name": "DescriptionStyleModel",
          "state": {
            "_view_name": "StyleView",
            "_model_name": "DescriptionStyleModel",
            "description_width": "",
            "_view_module": "@jupyter-widgets/base",
            "_model_module_version": "1.5.0",
            "_view_count": null,
            "_view_module_version": "1.2.0",
            "_model_module": "@jupyter-widgets/controls"
          }
        },
        "cc9b729a399e4addbb129dafd3cbc999": {
          "model_module": "@jupyter-widgets/base",
          "model_name": "LayoutModel",
          "state": {
            "_view_name": "LayoutView",
            "grid_template_rows": null,
            "right": null,
            "justify_content": null,
            "_view_module": "@jupyter-widgets/base",
            "overflow": null,
            "_model_module_version": "1.2.0",
            "_view_count": null,
            "flex_flow": null,
            "width": null,
            "min_width": null,
            "border": null,
            "align_items": null,
            "bottom": null,
            "_model_module": "@jupyter-widgets/base",
            "top": null,
            "grid_column": null,
            "overflow_y": null,
            "overflow_x": null,
            "grid_auto_flow": null,
            "grid_area": null,
            "grid_template_columns": null,
            "flex": null,
            "_model_name": "LayoutModel",
            "justify_items": null,
            "grid_row": null,
            "max_height": null,
            "align_content": null,
            "visibility": null,
            "align_self": null,
            "height": null,
            "min_height": null,
            "padding": null,
            "grid_auto_rows": null,
            "grid_gap": null,
            "max_width": null,
            "order": null,
            "_view_module_version": "1.2.0",
            "grid_template_areas": null,
            "object_position": null,
            "object_fit": null,
            "grid_auto_columns": null,
            "margin": null,
            "display": null,
            "left": null
          }
        },
        "3d2531e7953e4adaa60ebcc3d560003c": {
          "model_module": "@jupyter-widgets/controls",
          "model_name": "HBoxModel",
          "state": {
            "_view_name": "HBoxView",
            "_dom_classes": [],
            "_model_name": "HBoxModel",
            "_view_module": "@jupyter-widgets/controls",
            "_model_module_version": "1.5.0",
            "_view_count": null,
            "_view_module_version": "1.5.0",
            "box_style": "",
            "layout": "IPY_MODEL_31abb9b9d7bd4e288c9d2820a31f381e",
            "_model_module": "@jupyter-widgets/controls",
            "children": [
              "IPY_MODEL_8680d452c72a4c20ab00f8f926484962",
              "IPY_MODEL_306b54c32a3849faa8ae77a9dcf620ae"
            ]
          }
        },
        "31abb9b9d7bd4e288c9d2820a31f381e": {
          "model_module": "@jupyter-widgets/base",
          "model_name": "LayoutModel",
          "state": {
            "_view_name": "LayoutView",
            "grid_template_rows": null,
            "right": null,
            "justify_content": null,
            "_view_module": "@jupyter-widgets/base",
            "overflow": null,
            "_model_module_version": "1.2.0",
            "_view_count": null,
            "flex_flow": null,
            "width": null,
            "min_width": null,
            "border": null,
            "align_items": null,
            "bottom": null,
            "_model_module": "@jupyter-widgets/base",
            "top": null,
            "grid_column": null,
            "overflow_y": null,
            "overflow_x": null,
            "grid_auto_flow": null,
            "grid_area": null,
            "grid_template_columns": null,
            "flex": null,
            "_model_name": "LayoutModel",
            "justify_items": null,
            "grid_row": null,
            "max_height": null,
            "align_content": null,
            "visibility": null,
            "align_self": null,
            "height": null,
            "min_height": null,
            "padding": null,
            "grid_auto_rows": null,
            "grid_gap": null,
            "max_width": null,
            "order": null,
            "_view_module_version": "1.2.0",
            "grid_template_areas": null,
            "object_position": null,
            "object_fit": null,
            "grid_auto_columns": null,
            "margin": null,
            "display": null,
            "left": null
          }
        },
        "8680d452c72a4c20ab00f8f926484962": {
          "model_module": "@jupyter-widgets/controls",
          "model_name": "IntProgressModel",
          "state": {
            "_view_name": "ProgressView",
            "style": "IPY_MODEL_89400360bf4249d980a678d350e9b00b",
            "_dom_classes": [],
            "description": "",
            "_model_name": "IntProgressModel",
            "bar_style": "success",
            "max": 1,
            "_view_module": "@jupyter-widgets/controls",
            "_model_module_version": "1.5.0",
            "value": 1,
            "_view_count": null,
            "_view_module_version": "1.5.0",
            "orientation": "horizontal",
            "min": 0,
            "description_tooltip": null,
            "_model_module": "@jupyter-widgets/controls",
            "layout": "IPY_MODEL_635e0fae0a1b41e8babfe568dcc1e1d0"
          }
        },
        "306b54c32a3849faa8ae77a9dcf620ae": {
          "model_module": "@jupyter-widgets/controls",
          "model_name": "HTMLModel",
          "state": {
            "_view_name": "HTMLView",
            "style": "IPY_MODEL_df0fa2180d034681a823a80d69d6c4c7",
            "_dom_classes": [],
            "description": "",
            "_model_name": "HTMLModel",
            "placeholder": "​",
            "_view_module": "@jupyter-widgets/controls",
            "_model_module_version": "1.5.0",
            "value": "1654784it [00:00, 2371229.55it/s]",
            "_view_count": null,
            "_view_module_version": "1.5.0",
            "description_tooltip": null,
            "_model_module": "@jupyter-widgets/controls",
            "layout": "IPY_MODEL_e46bb7f2f1ea4b938f89d9e0c87edd7f"
          }
        },
        "89400360bf4249d980a678d350e9b00b": {
          "model_module": "@jupyter-widgets/controls",
          "model_name": "ProgressStyleModel",
          "state": {
            "_view_name": "StyleView",
            "_model_name": "ProgressStyleModel",
            "description_width": "",
            "_view_module": "@jupyter-widgets/base",
            "_model_module_version": "1.5.0",
            "_view_count": null,
            "_view_module_version": "1.2.0",
            "bar_color": null,
            "_model_module": "@jupyter-widgets/controls"
          }
        },
        "635e0fae0a1b41e8babfe568dcc1e1d0": {
          "model_module": "@jupyter-widgets/base",
          "model_name": "LayoutModel",
          "state": {
            "_view_name": "LayoutView",
            "grid_template_rows": null,
            "right": null,
            "justify_content": null,
            "_view_module": "@jupyter-widgets/base",
            "overflow": null,
            "_model_module_version": "1.2.0",
            "_view_count": null,
            "flex_flow": null,
            "width": null,
            "min_width": null,
            "border": null,
            "align_items": null,
            "bottom": null,
            "_model_module": "@jupyter-widgets/base",
            "top": null,
            "grid_column": null,
            "overflow_y": null,
            "overflow_x": null,
            "grid_auto_flow": null,
            "grid_area": null,
            "grid_template_columns": null,
            "flex": null,
            "_model_name": "LayoutModel",
            "justify_items": null,
            "grid_row": null,
            "max_height": null,
            "align_content": null,
            "visibility": null,
            "align_self": null,
            "height": null,
            "min_height": null,
            "padding": null,
            "grid_auto_rows": null,
            "grid_gap": null,
            "max_width": null,
            "order": null,
            "_view_module_version": "1.2.0",
            "grid_template_areas": null,
            "object_position": null,
            "object_fit": null,
            "grid_auto_columns": null,
            "margin": null,
            "display": null,
            "left": null
          }
        },
        "df0fa2180d034681a823a80d69d6c4c7": {
          "model_module": "@jupyter-widgets/controls",
          "model_name": "DescriptionStyleModel",
          "state": {
            "_view_name": "StyleView",
            "_model_name": "DescriptionStyleModel",
            "description_width": "",
            "_view_module": "@jupyter-widgets/base",
            "_model_module_version": "1.5.0",
            "_view_count": null,
            "_view_module_version": "1.2.0",
            "_model_module": "@jupyter-widgets/controls"
          }
        },
        "e46bb7f2f1ea4b938f89d9e0c87edd7f": {
          "model_module": "@jupyter-widgets/base",
          "model_name": "LayoutModel",
          "state": {
            "_view_name": "LayoutView",
            "grid_template_rows": null,
            "right": null,
            "justify_content": null,
            "_view_module": "@jupyter-widgets/base",
            "overflow": null,
            "_model_module_version": "1.2.0",
            "_view_count": null,
            "flex_flow": null,
            "width": null,
            "min_width": null,
            "border": null,
            "align_items": null,
            "bottom": null,
            "_model_module": "@jupyter-widgets/base",
            "top": null,
            "grid_column": null,
            "overflow_y": null,
            "overflow_x": null,
            "grid_auto_flow": null,
            "grid_area": null,
            "grid_template_columns": null,
            "flex": null,
            "_model_name": "LayoutModel",
            "justify_items": null,
            "grid_row": null,
            "max_height": null,
            "align_content": null,
            "visibility": null,
            "align_self": null,
            "height": null,
            "min_height": null,
            "padding": null,
            "grid_auto_rows": null,
            "grid_gap": null,
            "max_width": null,
            "order": null,
            "_view_module_version": "1.2.0",
            "grid_template_areas": null,
            "object_position": null,
            "object_fit": null,
            "grid_auto_columns": null,
            "margin": null,
            "display": null,
            "left": null
          }
        },
        "06e62cc470f2479fa02f9cd9f8c79e88": {
          "model_module": "@jupyter-widgets/controls",
          "model_name": "HBoxModel",
          "state": {
            "_view_name": "HBoxView",
            "_dom_classes": [],
            "_model_name": "HBoxModel",
            "_view_module": "@jupyter-widgets/controls",
            "_model_module_version": "1.5.0",
            "_view_count": null,
            "_view_module_version": "1.5.0",
            "box_style": "",
            "layout": "IPY_MODEL_6929ea0b5fad46d7978d612470ac84d4",
            "_model_module": "@jupyter-widgets/controls",
            "children": [
              "IPY_MODEL_b2e75fd4c604422bb8152cb238a0fa08",
              "IPY_MODEL_500fa97dbbaa4990b77863dc52e67230"
            ]
          }
        },
        "6929ea0b5fad46d7978d612470ac84d4": {
          "model_module": "@jupyter-widgets/base",
          "model_name": "LayoutModel",
          "state": {
            "_view_name": "LayoutView",
            "grid_template_rows": null,
            "right": null,
            "justify_content": null,
            "_view_module": "@jupyter-widgets/base",
            "overflow": null,
            "_model_module_version": "1.2.0",
            "_view_count": null,
            "flex_flow": null,
            "width": null,
            "min_width": null,
            "border": null,
            "align_items": null,
            "bottom": null,
            "_model_module": "@jupyter-widgets/base",
            "top": null,
            "grid_column": null,
            "overflow_y": null,
            "overflow_x": null,
            "grid_auto_flow": null,
            "grid_area": null,
            "grid_template_columns": null,
            "flex": null,
            "_model_name": "LayoutModel",
            "justify_items": null,
            "grid_row": null,
            "max_height": null,
            "align_content": null,
            "visibility": null,
            "align_self": null,
            "height": null,
            "min_height": null,
            "padding": null,
            "grid_auto_rows": null,
            "grid_gap": null,
            "max_width": null,
            "order": null,
            "_view_module_version": "1.2.0",
            "grid_template_areas": null,
            "object_position": null,
            "object_fit": null,
            "grid_auto_columns": null,
            "margin": null,
            "display": null,
            "left": null
          }
        },
        "b2e75fd4c604422bb8152cb238a0fa08": {
          "model_module": "@jupyter-widgets/controls",
          "model_name": "IntProgressModel",
          "state": {
            "_view_name": "ProgressView",
            "style": "IPY_MODEL_1df5cdbc75834386b69f31274efebcba",
            "_dom_classes": [],
            "description": "",
            "_model_name": "IntProgressModel",
            "bar_style": "success",
            "max": 1,
            "_view_module": "@jupyter-widgets/controls",
            "_model_module_version": "1.5.0",
            "value": 1,
            "_view_count": null,
            "_view_module_version": "1.5.0",
            "orientation": "horizontal",
            "min": 0,
            "description_tooltip": null,
            "_model_module": "@jupyter-widgets/controls",
            "layout": "IPY_MODEL_281188cb975142a4894355d86dc5241d"
          }
        },
        "500fa97dbbaa4990b77863dc52e67230": {
          "model_module": "@jupyter-widgets/controls",
          "model_name": "HTMLModel",
          "state": {
            "_view_name": "HTMLView",
            "style": "IPY_MODEL_1cbcc211a0e54f079ead7d361c05140f",
            "_dom_classes": [],
            "description": "",
            "_model_name": "HTMLModel",
            "placeholder": "​",
            "_view_module": "@jupyter-widgets/controls",
            "_model_module_version": "1.5.0",
            "value": "8192it [00:00, 36752.51it/s]",
            "_view_count": null,
            "_view_module_version": "1.5.0",
            "description_tooltip": null,
            "_model_module": "@jupyter-widgets/controls",
            "layout": "IPY_MODEL_dbad7be0917840e8a4ab39afb1d82ad4"
          }
        },
        "1df5cdbc75834386b69f31274efebcba": {
          "model_module": "@jupyter-widgets/controls",
          "model_name": "ProgressStyleModel",
          "state": {
            "_view_name": "StyleView",
            "_model_name": "ProgressStyleModel",
            "description_width": "",
            "_view_module": "@jupyter-widgets/base",
            "_model_module_version": "1.5.0",
            "_view_count": null,
            "_view_module_version": "1.2.0",
            "bar_color": null,
            "_model_module": "@jupyter-widgets/controls"
          }
        },
        "281188cb975142a4894355d86dc5241d": {
          "model_module": "@jupyter-widgets/base",
          "model_name": "LayoutModel",
          "state": {
            "_view_name": "LayoutView",
            "grid_template_rows": null,
            "right": null,
            "justify_content": null,
            "_view_module": "@jupyter-widgets/base",
            "overflow": null,
            "_model_module_version": "1.2.0",
            "_view_count": null,
            "flex_flow": null,
            "width": null,
            "min_width": null,
            "border": null,
            "align_items": null,
            "bottom": null,
            "_model_module": "@jupyter-widgets/base",
            "top": null,
            "grid_column": null,
            "overflow_y": null,
            "overflow_x": null,
            "grid_auto_flow": null,
            "grid_area": null,
            "grid_template_columns": null,
            "flex": null,
            "_model_name": "LayoutModel",
            "justify_items": null,
            "grid_row": null,
            "max_height": null,
            "align_content": null,
            "visibility": null,
            "align_self": null,
            "height": null,
            "min_height": null,
            "padding": null,
            "grid_auto_rows": null,
            "grid_gap": null,
            "max_width": null,
            "order": null,
            "_view_module_version": "1.2.0",
            "grid_template_areas": null,
            "object_position": null,
            "object_fit": null,
            "grid_auto_columns": null,
            "margin": null,
            "display": null,
            "left": null
          }
        },
        "1cbcc211a0e54f079ead7d361c05140f": {
          "model_module": "@jupyter-widgets/controls",
          "model_name": "DescriptionStyleModel",
          "state": {
            "_view_name": "StyleView",
            "_model_name": "DescriptionStyleModel",
            "description_width": "",
            "_view_module": "@jupyter-widgets/base",
            "_model_module_version": "1.5.0",
            "_view_count": null,
            "_view_module_version": "1.2.0",
            "_model_module": "@jupyter-widgets/controls"
          }
        },
        "dbad7be0917840e8a4ab39afb1d82ad4": {
          "model_module": "@jupyter-widgets/base",
          "model_name": "LayoutModel",
          "state": {
            "_view_name": "LayoutView",
            "grid_template_rows": null,
            "right": null,
            "justify_content": null,
            "_view_module": "@jupyter-widgets/base",
            "overflow": null,
            "_model_module_version": "1.2.0",
            "_view_count": null,
            "flex_flow": null,
            "width": null,
            "min_width": null,
            "border": null,
            "align_items": null,
            "bottom": null,
            "_model_module": "@jupyter-widgets/base",
            "top": null,
            "grid_column": null,
            "overflow_y": null,
            "overflow_x": null,
            "grid_auto_flow": null,
            "grid_area": null,
            "grid_template_columns": null,
            "flex": null,
            "_model_name": "LayoutModel",
            "justify_items": null,
            "grid_row": null,
            "max_height": null,
            "align_content": null,
            "visibility": null,
            "align_self": null,
            "height": null,
            "min_height": null,
            "padding": null,
            "grid_auto_rows": null,
            "grid_gap": null,
            "max_width": null,
            "order": null,
            "_view_module_version": "1.2.0",
            "grid_template_areas": null,
            "object_position": null,
            "object_fit": null,
            "grid_auto_columns": null,
            "margin": null,
            "display": null,
            "left": null
          }
        }
      }
    }
  },
  "cells": [
    {
      "cell_type": "markdown",
      "metadata": {
        "id": "view-in-github",
        "colab_type": "text"
      },
      "source": [
        "<a href=\"https://colab.research.google.com/github/omkarbhalerao40/GANs/blob/master/GAN_Pytorch.ipynb\" target=\"_parent\"><img src=\"https://colab.research.google.com/assets/colab-badge.svg\" alt=\"Open In Colab\"/></a>"
      ]
    },
    {
      "cell_type": "markdown",
      "metadata": {
        "id": "mj-_mO1ajjyh",
        "colab_type": "text"
      },
      "source": [
        "# Importing Required Libraries"
      ]
    },
    {
      "cell_type": "code",
      "metadata": {
        "id": "Z5F_uxIF85SI",
        "colab_type": "code",
        "colab": {}
      },
      "source": [
        "import torch\n",
        "import torchvision\n",
        "from torchvision.transforms import ToTensor, Normalize, Compose,ToPILImage\n",
        "from torchvision.datasets import MNIST"
      ],
      "execution_count": 0,
      "outputs": []
    },
    {
      "cell_type": "markdown",
      "metadata": {
        "id": "BmzsboJZjddj",
        "colab_type": "text"
      },
      "source": [
        "### Creating an object of the MNIST dataset\n",
        "##### MNIST dataset consists of a database of hand written digits"
      ]
    },
    {
      "cell_type": "code",
      "metadata": {
        "id": "jTBPQnFH9AZR",
        "colab_type": "code",
        "outputId": "027052d8-84e7-40c3-c596-a096fbe784e4",
        "colab": {
          "base_uri": "https://localhost:8080/",
          "height": 380,
          "referenced_widgets": [
            "97a8c4e0a7df4f2c8359298c6e7dd57f",
            "db085fe491e64295bc1e726aab3c826d",
            "10ccbacb907d4fdb867fac838de2b773",
            "6e076e9ad6b34aad99a6de434940be5b",
            "db823a78768e45a1b47daf2a4e252abc",
            "d03e16834bb54b219456f48d982ee13f",
            "305a6275305b4f95a5e58d5b085fb5ad",
            "4e06f16438e5467d9240631ef6f93b81",
            "b045f1bd16ab4f47a2a95d2aa5822078",
            "c213522000c042909f8e2f36f1f16d64",
            "ddca9cf8bedd4c90911a158a21e671e7",
            "4f5374542aee40889ed3bf0c0d730e6d",
            "06170019354d4eea94826aeada343f2b",
            "272e7a8de8724db7ad70342fe23a7ae6",
            "d0425b1e3b024466994e61f9c3a47592",
            "cc9b729a399e4addbb129dafd3cbc999",
            "3d2531e7953e4adaa60ebcc3d560003c",
            "31abb9b9d7bd4e288c9d2820a31f381e",
            "8680d452c72a4c20ab00f8f926484962",
            "306b54c32a3849faa8ae77a9dcf620ae",
            "89400360bf4249d980a678d350e9b00b",
            "635e0fae0a1b41e8babfe568dcc1e1d0",
            "df0fa2180d034681a823a80d69d6c4c7",
            "e46bb7f2f1ea4b938f89d9e0c87edd7f",
            "06e62cc470f2479fa02f9cd9f8c79e88",
            "6929ea0b5fad46d7978d612470ac84d4",
            "b2e75fd4c604422bb8152cb238a0fa08",
            "500fa97dbbaa4990b77863dc52e67230",
            "1df5cdbc75834386b69f31274efebcba",
            "281188cb975142a4894355d86dc5241d",
            "1cbcc211a0e54f079ead7d361c05140f",
            "dbad7be0917840e8a4ab39afb1d82ad4"
          ]
        }
      },
      "source": [
        "mnist = MNIST(root = 'data',\n",
        "              train = True,\n",
        "              download = True,\n",
        "              transform = Compose([ToTensor(), Normalize(mean = (0.5,), std = (0.5,))]))\n"
      ],
      "execution_count": 0,
      "outputs": [
        {
          "output_type": "stream",
          "text": [
            "Downloading http://yann.lecun.com/exdb/mnist/train-images-idx3-ubyte.gz to data/MNIST/raw/train-images-idx3-ubyte.gz\n"
          ],
          "name": "stdout"
        },
        {
          "output_type": "display_data",
          "data": {
            "application/vnd.jupyter.widget-view+json": {
              "model_id": "97a8c4e0a7df4f2c8359298c6e7dd57f",
              "version_minor": 0,
              "version_major": 2
            },
            "text/plain": [
              "HBox(children=(IntProgress(value=1, bar_style='info', max=1), HTML(value='')))"
            ]
          },
          "metadata": {
            "tags": []
          }
        },
        {
          "output_type": "stream",
          "text": [
            "\n",
            "Extracting data/MNIST/raw/train-images-idx3-ubyte.gz to data/MNIST/raw\n",
            "Downloading http://yann.lecun.com/exdb/mnist/train-labels-idx1-ubyte.gz to data/MNIST/raw/train-labels-idx1-ubyte.gz\n"
          ],
          "name": "stdout"
        },
        {
          "output_type": "display_data",
          "data": {
            "application/vnd.jupyter.widget-view+json": {
              "model_id": "b045f1bd16ab4f47a2a95d2aa5822078",
              "version_minor": 0,
              "version_major": 2
            },
            "text/plain": [
              "HBox(children=(IntProgress(value=1, bar_style='info', max=1), HTML(value='')))"
            ]
          },
          "metadata": {
            "tags": []
          }
        },
        {
          "output_type": "stream",
          "text": [
            "\n",
            "Extracting data/MNIST/raw/train-labels-idx1-ubyte.gz to data/MNIST/raw\n",
            "Downloading http://yann.lecun.com/exdb/mnist/t10k-images-idx3-ubyte.gz to data/MNIST/raw/t10k-images-idx3-ubyte.gz\n"
          ],
          "name": "stdout"
        },
        {
          "output_type": "display_data",
          "data": {
            "application/vnd.jupyter.widget-view+json": {
              "model_id": "3d2531e7953e4adaa60ebcc3d560003c",
              "version_minor": 0,
              "version_major": 2
            },
            "text/plain": [
              "HBox(children=(IntProgress(value=1, bar_style='info', max=1), HTML(value='')))"
            ]
          },
          "metadata": {
            "tags": []
          }
        },
        {
          "output_type": "stream",
          "text": [
            "\n",
            "Extracting data/MNIST/raw/t10k-images-idx3-ubyte.gz to data/MNIST/raw\n",
            "Downloading http://yann.lecun.com/exdb/mnist/t10k-labels-idx1-ubyte.gz to data/MNIST/raw/t10k-labels-idx1-ubyte.gz\n"
          ],
          "name": "stdout"
        },
        {
          "output_type": "display_data",
          "data": {
            "application/vnd.jupyter.widget-view+json": {
              "model_id": "06e62cc470f2479fa02f9cd9f8c79e88",
              "version_minor": 0,
              "version_major": 2
            },
            "text/plain": [
              "HBox(children=(IntProgress(value=1, bar_style='info', max=1), HTML(value='')))"
            ]
          },
          "metadata": {
            "tags": []
          }
        },
        {
          "output_type": "stream",
          "text": [
            "\n",
            "Extracting data/MNIST/raw/t10k-labels-idx1-ubyte.gz to data/MNIST/raw\n",
            "Processing...\n",
            "Done!\n"
          ],
          "name": "stdout"
        }
      ]
    },
    {
      "cell_type": "markdown",
      "metadata": {
        "id": "Lb7ChIaAkRVe",
        "colab_type": "text"
      },
      "source": [
        "##### Let's look at an image from the object created"
      ]
    },
    {
      "cell_type": "code",
      "metadata": {
        "id": "1VnaZ5WZ9Abu",
        "colab_type": "code",
        "outputId": "b760450c-efdc-4970-ec15-c90356de9deb",
        "colab": {
          "base_uri": "https://localhost:8080/",
          "height": 151
        }
      },
      "source": [
        "img, label = mnist[0]  #take first image and corresponding label\n",
        "print('Label', label)\n",
        "print('Img size', img.shape) #channel, height, width\n",
        "print('Image', img[:,10:15,10:15]) #Printing a few pixel values of the image\n",
        "torch.min(img), torch.max(img) #Printing the minimum and maximum values of the tensor"
      ],
      "execution_count": 0,
      "outputs": [
        {
          "output_type": "stream",
          "text": [
            "Label 5\n",
            "Img size torch.Size([1, 28, 28])\n",
            "Image tensor([[[-0.9922,  0.2078,  0.9843, -0.2941, -1.0000],\n",
            "         [-1.0000,  0.0902,  0.9843,  0.4902, -0.9843],\n",
            "         [-1.0000, -0.9137,  0.4902,  0.9843, -0.4510],\n",
            "         [-1.0000, -1.0000, -0.7255,  0.8902,  0.7647],\n",
            "         [-1.0000, -1.0000, -1.0000, -0.3647,  0.8824]]])\n"
          ],
          "name": "stdout"
        },
        {
          "output_type": "execute_result",
          "data": {
            "text/plain": [
              "(tensor(-1.), tensor(1.))"
            ]
          },
          "metadata": {
            "tags": []
          },
          "execution_count": 3
        }
      ]
    },
    {
      "cell_type": "markdown",
      "metadata": {
        "id": "aWd7rXSfk3w2",
        "colab_type": "text"
      },
      "source": [
        "##### Create a function to denormalize the tensor from (-1,1) to (0,1) show that it can plotted as pixels"
      ]
    },
    {
      "cell_type": "code",
      "metadata": {
        "id": "RE-ZsZLs9AeW",
        "colab_type": "code",
        "colab": {}
      },
      "source": [
        "#Denormalize and convert to numpy to view images \n",
        "#Since matplotlib cant show tensors\n",
        "\n",
        "def denorm(x) :\n",
        "  out = (x + 1) /2\n",
        "  return out.clamp(0,1)"
      ],
      "execution_count": 0,
      "outputs": []
    },
    {
      "cell_type": "markdown",
      "metadata": {
        "id": "-uBUJRpvktCZ",
        "colab_type": "text"
      },
      "source": [
        "##### A function to display an image"
      ]
    },
    {
      "cell_type": "code",
      "metadata": {
        "id": "fZRXEP2s9AhF",
        "colab_type": "code",
        "colab": {}
      },
      "source": [
        "import numpy as np\n",
        "import matplotlib.pyplot as plt\n",
        "%matplotlib inline\n",
        "\n",
        "def imshow(img):\n",
        "    img = img / 2 + 0.5     # denormalize\n",
        "    npimg = img.numpy() \n",
        "    plt.imshow(npimg[0], cmap = 'gray')\n",
        "    plt.show()"
      ],
      "execution_count": 0,
      "outputs": []
    },
    {
      "cell_type": "code",
      "metadata": {
        "id": "TENN4GqpDRNG",
        "colab_type": "code",
        "outputId": "903cb9d9-e656-42a9-f7bb-fe262031f1fc",
        "colab": {
          "base_uri": "https://localhost:8080/",
          "height": 265
        }
      },
      "source": [
        "imshow(img)"
      ],
      "execution_count": 0,
      "outputs": [
        {
          "output_type": "display_data",
          "data": {
            "image/png": "[encoded data removed]",
            "text/plain": [
              "<Figure size 432x288 with 1 Axes>"
            ]
          },
          "metadata": {
            "tags": []
          }
        }
      ]
    },
    {
      "cell_type": "markdown",
      "metadata": {
        "id": "LaduxNeOlhqK",
        "colab_type": "text"
      },
      "source": [
        "### Create a data loader which loads images from the dataset object in batches"
      ]
    },
    {
      "cell_type": "code",
      "metadata": {
        "id": "IuvXurD-DRSS",
        "colab_type": "code",
        "colab": {}
      },
      "source": [
        "from torch.utils.data import DataLoader\n",
        "\n",
        "batch_size = 100\n",
        "data_loader = DataLoader(mnist, batch_size, shuffle = True)"
      ],
      "execution_count": 0,
      "outputs": []
    },
    {
      "cell_type": "markdown",
      "metadata": {
        "id": "lsjDsgeumgNp",
        "colab_type": "text"
      },
      "source": [
        "##### Data loader returns batches of images with labesl"
      ]
    },
    {
      "cell_type": "code",
      "metadata": {
        "id": "k_rlYDqtDRW1",
        "colab_type": "code",
        "outputId": "6277f283-6891-4c64-d153-321b510ac3b2",
        "colab": {
          "base_uri": "https://localhost:8080/",
          "height": 399
        }
      },
      "source": [
        "for img_batch, label_batch in data_loader :  #data_loader ==> (batch of images, corresponding batch of labels)\n",
        "  print('First Batch')\n",
        "  print(img_batch.shape)    \n",
        "  print(label_batch.shape)\n",
        "  imshow(img_batch[0])\n",
        "  print(label_batch)\n",
        "  break"
      ],
      "execution_count": 0,
      "outputs": [
        {
          "output_type": "stream",
          "text": [
            "First Batch\n",
            "torch.Size([100, 1, 28, 28])\n",
            "torch.Size([100])\n"
          ],
          "name": "stdout"
        },
        {
          "output_type": "display_data",
          "data": {
            "image/png": "[encoded data removed]",
            "text/plain": [
              "<Figure size 432x288 with 1 Axes>"
            ]
          },
          "metadata": {
            "tags": []
          }
        },
        {
          "output_type": "stream",
          "text": [
            "tensor([6, 1, 9, 8, 3, 7, 1, 1, 8, 8, 9, 0, 3, 5, 8, 1, 2, 8, 6, 2, 5, 2, 3, 6,\n",
            "        7, 0, 9, 2, 3, 7, 8, 7, 5, 7, 2, 2, 9, 7, 2, 0, 5, 4, 3, 6, 4, 7, 5, 4,\n",
            "        3, 4, 6, 2, 0, 8, 8, 6, 9, 4, 0, 1, 9, 7, 6, 2, 9, 0, 1, 7, 2, 2, 5, 8,\n",
            "        6, 6, 3, 7, 8, 5, 1, 7, 6, 3, 6, 8, 9, 7, 4, 7, 9, 3, 7, 9, 4, 5, 9, 1,\n",
            "        3, 2, 2, 8])\n"
          ],
          "name": "stdout"
        }
      ]
    },
    {
      "cell_type": "markdown",
      "metadata": {
        "id": "iyqCmXx3nEC9",
        "colab_type": "text"
      },
      "source": [
        "### Create a device variable which can be used to move models and data to the GPU if available"
      ]
    },
    {
      "cell_type": "code",
      "metadata": {
        "id": "EQNb7DMQDRrm",
        "colab_type": "code",
        "outputId": "f5597dde-4435-444c-8255-20dc37baa589",
        "colab": {
          "base_uri": "https://localhost:8080/",
          "height": 34
        }
      },
      "source": [
        "#Device configuration\n",
        "\n",
        "device = torch.device('cuda' if torch.cuda.is_available() else 'cpu')  #String variable \n",
        "print(device)"
      ],
      "execution_count": 0,
      "outputs": [
        {
          "output_type": "stream",
          "text": [
            "cuda\n"
          ],
          "name": "stdout"
        }
      ]
    },
    {
      "cell_type": "markdown",
      "metadata": {
        "id": "VBJSh0k5rMYK",
        "colab_type": "text"
      },
      "source": [
        "# Creating the Disccriminator"
      ]
    },
    {
      "cell_type": "code",
      "metadata": {
        "colab_type": "code",
        "id": "9zGKb6aWqmP2",
        "colab": {}
      },
      "source": [
        "#For Discriminator\n",
        "\n",
        "image_size = 28*28     #flattened input image size(since we are making fully connected layers)\n",
        "hidden_size = 256      #Neurons in hidden layers "
      ],
      "execution_count": 0,
      "outputs": []
    },
    {
      "cell_type": "code",
      "metadata": {
        "colab_type": "code",
        "id": "WVa-4EjwqmPp",
        "colab": {}
      },
      "source": [
        "#Dicriminator Network\n",
        "\n",
        "import torch.nn as nn\n",
        "import torch.nn.functional as F\n",
        "\n",
        "class Dis(nn.Module) :\n",
        "  def __init__(self) :\n",
        "    super(Dis, self).__init__()\n",
        "    self.fc1 = nn.Linear(image_size, hidden_size)\n",
        "    self.fc2 = nn.Linear(hidden_size, hidden_size)\n",
        "    self.fc3 = nn.Linear(hidden_size, 1)\n",
        "  \n",
        "  def forward(self, x) :\n",
        "    x = F.leaky_relu(self.fc1(x), 0.2)\n",
        "    x = F.leaky_relu(self.fc2(x), 0.2)\n",
        "    x = F.sigmoid(self.fc3(x))\n",
        "    return x\n"
      ],
      "execution_count": 0,
      "outputs": []
    },
    {
      "cell_type": "code",
      "metadata": {
        "colab_type": "code",
        "outputId": "76dedf6e-a9ae-496a-a95a-b3dfa5e3cd9b",
        "id": "zbBNBEbOqmPh",
        "colab": {
          "base_uri": "https://localhost:8080/",
          "height": 101
        }
      },
      "source": [
        "D = Dis() #Making an instance of created discriminator class\n",
        "D.to(device) #Shifting model to device"
      ],
      "execution_count": 0,
      "outputs": [
        {
          "output_type": "execute_result",
          "data": {
            "text/plain": [
              "Dis(\n",
              "  (fc1): Linear(in_features=784, out_features=256, bias=True)\n",
              "  (fc2): Linear(in_features=256, out_features=256, bias=True)\n",
              "  (fc3): Linear(in_features=256, out_features=1, bias=True)\n",
              ")"
            ]
          },
          "metadata": {
            "tags": []
          },
          "execution_count": 125
        }
      ]
    },
    {
      "cell_type": "code",
      "metadata": {
        "colab_type": "code",
        "outputId": "72271582-c914-425c-9833-aaef4ab2d610",
        "id": "1XCdBcxtqmPY",
        "colab": {
          "base_uri": "https://localhost:8080/",
          "height": 101
        }
      },
      "source": [
        "print(D)"
      ],
      "execution_count": 0,
      "outputs": [
        {
          "output_type": "stream",
          "text": [
            "Dis(\n",
            "  (fc1): Linear(in_features=784, out_features=256, bias=True)\n",
            "  (fc2): Linear(in_features=256, out_features=256, bias=True)\n",
            "  (fc3): Linear(in_features=256, out_features=1, bias=True)\n",
            ")\n"
          ],
          "name": "stdout"
        }
      ]
    },
    {
      "cell_type": "markdown",
      "metadata": {
        "id": "_x9XqdivoOMq",
        "colab_type": "text"
      },
      "source": [
        "# Creating the Generator"
      ]
    },
    {
      "cell_type": "code",
      "metadata": {
        "id": "62HJXFJ1DRVP",
        "colab_type": "code",
        "colab": {}
      },
      "source": [
        "#For Generator Network\n",
        "\n",
        "latent_size = 100  #size of random noise vector which acts as input to the generator"
      ],
      "execution_count": 0,
      "outputs": []
    },
    {
      "cell_type": "code",
      "metadata": {
        "id": "QfSbj0WJDRQt",
        "colab_type": "code",
        "colab": {}
      },
      "source": [
        "#Generator Network\n",
        "\n",
        "class Gen(nn.Module) :\n",
        "  def __init__(self) :\n",
        "    super(Gen, self).__init__ ()\n",
        "    self.fc1 = nn.Linear(latent_size, hidden_size)\n",
        "    self.fc2 = nn.Linear(hidden_size, hidden_size)\n",
        "    self.fc3 = nn.Linear(hidden_size, image_size)\n",
        "    \n",
        "  def forward(self, x) :\n",
        "    x = F.relu(self.fc1(x))\n",
        "    x = F.relu(self.fc2(x))\n",
        "    x = torch.tanh(self.fc3(x))\n",
        "    return x"
      ],
      "execution_count": 0,
      "outputs": []
    },
    {
      "cell_type": "code",
      "metadata": {
        "id": "xbZfFKE_DRLW",
        "colab_type": "code",
        "outputId": "a5798649-5a64-4ec0-85aa-ca31ce90553e",
        "colab": {
          "base_uri": "https://localhost:8080/",
          "height": 101
        }
      },
      "source": [
        "G = Gen() #Making an instance of created discriminator class\n",
        "G.to(device) #Shifting the model to the device"
      ],
      "execution_count": 0,
      "outputs": [
        {
          "output_type": "execute_result",
          "data": {
            "text/plain": [
              "Gen(\n",
              "  (fc1): Linear(in_features=100, out_features=256, bias=True)\n",
              "  (fc2): Linear(in_features=256, out_features=256, bias=True)\n",
              "  (fc3): Linear(in_features=256, out_features=784, bias=True)\n",
              ")"
            ]
          },
          "metadata": {
            "tags": []
          },
          "execution_count": 129
        }
      ]
    },
    {
      "cell_type": "code",
      "metadata": {
        "id": "oU5Ha4mGA9m-",
        "colab_type": "code",
        "outputId": "152d67c6-66e9-4aec-de5c-ea35f20eaf83",
        "colab": {
          "base_uri": "https://localhost:8080/",
          "height": 101
        }
      },
      "source": [
        "print(G)"
      ],
      "execution_count": 0,
      "outputs": [
        {
          "output_type": "stream",
          "text": [
            "Gen(\n",
            "  (fc1): Linear(in_features=100, out_features=256, bias=True)\n",
            "  (fc2): Linear(in_features=256, out_features=256, bias=True)\n",
            "  (fc3): Linear(in_features=256, out_features=784, bias=True)\n",
            ")\n"
          ],
          "name": "stdout"
        }
      ]
    },
    {
      "cell_type": "code",
      "metadata": {
        "id": "kxc1g7-9mAO3",
        "colab_type": "code",
        "outputId": "5bac7f9c-e78e-4d1d-8102-08063b90b0ab",
        "colab": {
          "base_uri": "https://localhost:8080/",
          "height": 315
        }
      },
      "source": [
        "#Generator output for random noise\n",
        "\n",
        "y = G(torch.randn(2, latent_size).to(device))\n",
        "print(y.shape)\n",
        "gen_images = denorm(y.reshape(-1,28, 28).detach())\n",
        "print(gen_images.shape)\n",
        "\n",
        "plt.imshow(gen_images[0].cpu(), cmap = 'gray')"
      ],
      "execution_count": 0,
      "outputs": [
        {
          "output_type": "stream",
          "text": [
            "torch.Size([2, 784])\n",
            "torch.Size([2, 28, 28])\n"
          ],
          "name": "stdout"
        },
        {
          "output_type": "execute_result",
          "data": {
            "text/plain": [
              "<matplotlib.image.AxesImage at 0x7fe6552b5470>"
            ]
          },
          "metadata": {
            "tags": []
          },
          "execution_count": 131
        },
        {
          "output_type": "display_data",
          "data": {
            "image/png": "[encoded data removed]",
            "text/plain": [
              "<Figure size 432x288 with 1 Axes>"
            ]
          },
          "metadata": {
            "tags": []
          }
        }
      ]
    },
    {
      "cell_type": "code",
      "metadata": {
        "id": "h-KggIgimAVB",
        "colab_type": "code",
        "outputId": "f2742515-9411-48df-8669-8d77f441ca2d",
        "colab": {
          "base_uri": "https://localhost:8080/",
          "height": 265
        }
      },
      "source": [
        "# imshow(gen_images[1].reshape(-1, 28, 28).cpu()) #alternate way of displaying image"
      ],
      "execution_count": 0,
      "outputs": [
        {
          "output_type": "display_data",
          "data": {
            "image/png": "[encoded data removed]",
            "text/plain": [
              "<Figure size 432x288 with 1 Axes>"
            ]
          },
          "metadata": {
            "tags": []
          }
        }
      ]
    },
    {
      "cell_type": "markdown",
      "metadata": {
        "id": "eof3JeYdo9RX",
        "colab_type": "text"
      },
      "source": [
        "##### Creating optimizers for both networks to carry out gradient descent"
      ]
    },
    {
      "cell_type": "code",
      "metadata": {
        "id": "QzOI10e9mAYC",
        "colab_type": "code",
        "colab": {}
      },
      "source": [
        "criterion = nn.BCELoss()  #Using the Binary cross entropy loss\n",
        "d_optimizer = torch.optim.Adam(D.parameters(), lr = 0.0002)\n",
        "g_optimizer = torch.optim.Adam(G.parameters(), lr = 0.0002)"
      ],
      "execution_count": 0,
      "outputs": []
    },
    {
      "cell_type": "code",
      "metadata": {
        "id": "aW6874Qkrie5",
        "colab_type": "code",
        "colab": {}
      },
      "source": [
        "#Function for clearing previously stored gradients\n",
        "\n",
        "def reset_grad() :\n",
        "  d_optimizer.zero_grad()\n",
        "  g_optimizer.zero_grad()"
      ],
      "execution_count": 0,
      "outputs": []
    },
    {
      "cell_type": "markdown",
      "metadata": {
        "id": "5fnm500dpGyY",
        "colab_type": "text"
      },
      "source": [
        "##### Function for training the discriminator"
      ]
    },
    {
      "cell_type": "code",
      "metadata": {
        "id": "C2WQo8UerikQ",
        "colab_type": "code",
        "colab": {}
      },
      "source": [
        "def train_discriminator(images) :\n",
        "  #Create labels which are later used as input for the BCE loss\n",
        "  real_labels = torch.ones(batch_size, 1).to(device)\n",
        "  fake_labels = torch.zeros(batch_size, 1).to(device)\n",
        "\n",
        "  #Loss for real images\n",
        "  outputs = D(images)\n",
        "  d_loss_real = criterion(outputs, real_labels) #want probs to be 1 for real iamges\n",
        "  real_score = outputs #probabilites of disc for real images\n",
        "\n",
        "  #Loss for fake images\n",
        "  z = torch.randn(batch_size, latent_size).to(device)\n",
        "  fake_images = G(z)\n",
        "  outputs = D(fake_images)\n",
        "  d_loss_fake = criterion(outputs, fake_labels) #want probs to be 0 for gen iamges\n",
        "  fake_score = outputs #probabilites of disc for fake images\n",
        "\n",
        "  #Combine Loss\n",
        "  d_loss = d_loss_real + d_loss_fake\n",
        "\n",
        "  #Reset Gradients\n",
        "  reset_grad()\n",
        "\n",
        "  #Compute Gradients\n",
        "  d_loss.backward()\n",
        "\n",
        "  #Adjust paramters using BackProp\n",
        "  d_optimizer.step()\n",
        "\n",
        "  return d_loss, real_score, fake_score"
      ],
      "execution_count": 0,
      "outputs": []
    },
    {
      "cell_type": "markdown",
      "metadata": {
        "id": "0tUuSeNJpNhI",
        "colab_type": "text"
      },
      "source": [
        "##### Function for training the Generator"
      ]
    },
    {
      "cell_type": "code",
      "metadata": {
        "id": "tQf9nb8frioN",
        "colab_type": "code",
        "colab": {}
      },
      "source": [
        "def train_generator() :\n",
        "  #Generate fake images and calculate loss\n",
        "  z = torch.randn(batch_size, latent_size).to(device)\n",
        "  fake_images = G(z)\n",
        "  d_outptus = D(fake_images)\n",
        "  labels = torch.ones(batch_size).to(device)\n",
        "  g_loss = criterion(d_outptus, labels)\n",
        "\n",
        "  #Reset Gradients\n",
        "  reset_grad()\n",
        "\n",
        "  #Compute gradients\n",
        "  g_loss.backward()\n",
        "\n",
        "  #Adjust parameters using backprop\n",
        "  g_optimizer.step()\n",
        "\n",
        "  return g_loss, fake_images"
      ],
      "execution_count": 0,
      "outputs": []
    },
    {
      "cell_type": "code",
      "metadata": {
        "id": "Z9XohwS5rim5",
        "colab_type": "code",
        "colab": {}
      },
      "source": [
        "#Place to store model checkpoint\n",
        "import os\n",
        "\n",
        "sample_dir = 'sample'\n",
        "if not os.path.exists(sample_dir) :\n",
        "  os.makedirs(sample_dir)"
      ],
      "execution_count": 0,
      "outputs": []
    },
    {
      "cell_type": "code",
      "metadata": {
        "id": "hrgzRhc7rihz",
        "colab_type": "code",
        "outputId": "854ff1f0-9d89-40af-cef7-6503eeada104",
        "colab": {
          "base_uri": "https://localhost:8080/",
          "height": 319
        }
      },
      "source": [
        "#Saving batch of some real images\n",
        "from IPython.display import Image\n",
        "from torchvision.utils import save_image\n",
        "\n",
        "#save some real images\n",
        "for images, _ in data_loader :\n",
        "  images = images.reshape(images.size(0), 1, 28, 28)\n",
        "  save_image(denorm(images), os.path.join(sample_dir, 'real_images.png'), nrow = 10)\n",
        "  break\n",
        "Image(os.path.join(sample_dir, 'real_images.png'))"
      ],
      "execution_count": 0,
      "outputs": [
        {
          "output_type": "execute_result",
          "data": {
            "image/png": "[encoded data removed]",
            "text/plain": [
              "<IPython.core.display.Image object>"
            ]
          },
          "metadata": {
            "tags": []
          },
          "execution_count": 139
        }
      ]
    },
    {
      "cell_type": "markdown",
      "metadata": {
        "id": "KR-z7irgpURX",
        "colab_type": "text"
      },
      "source": [
        "##### Saving a batch of fake images to see the transition of the image as the GAN improves "
      ]
    },
    {
      "cell_type": "code",
      "metadata": {
        "id": "PKsFFZ8MricS",
        "colab_type": "code",
        "outputId": "a0eda040-a85f-4838-a090-f068849605e7",
        "colab": {
          "base_uri": "https://localhost:8080/",
          "height": 336
        }
      },
      "source": [
        "#Saving batch of fake iamges\n",
        "#Keep same input vector to check evolution of Generator on same input\n",
        "\n",
        "sample_vectors = torch.randn(batch_size, latent_size).to(device)\n",
        "\n",
        "def save_fake_images(index) :\n",
        "   fake_images = G(sample_vectors)\n",
        "   fake_images = fake_images.reshape(fake_images.size(0), 1, 28, 28)\n",
        "   fake_fname = 'fake_images-{0:0=4d}.png'.format(index)\n",
        "   print('Saving', fake_fname)\n",
        "   save_image(denorm(fake_images), os.path.join(sample_dir, fake_fname), nrow = 10)\n",
        "  \n",
        "#before training\n",
        "save_fake_images(0)\n",
        "Image(os.path.join(sample_dir, 'fake_images-0000.png'))"
      ],
      "execution_count": 0,
      "outputs": [
        {
          "output_type": "stream",
          "text": [
            "Saving fake_images-0000.png\n"
          ],
          "name": "stdout"
        },
        {
          "output_type": "execute_result",
          "data": {
            "image/png": "[encoded data removed]",
            "text/plain": [
              "<IPython.core.display.Image object>"
            ]
          },
          "metadata": {
            "tags": []
          },
          "execution_count": 143
        }
      ]
    },
    {
      "cell_type": "markdown",
      "metadata": {
        "id": "OVOzZ-keprSg",
        "colab_type": "text"
      },
      "source": [
        "# Training the GAN"
      ]
    },
    {
      "cell_type": "code",
      "metadata": {
        "id": "nUuU11x-mASg",
        "colab_type": "code",
        "outputId": "20e361ed-06a9-473e-f81e-ff87308515c9",
        "colab": {
          "base_uri": "https://localhost:8080/",
          "height": 1000
        }
      },
      "source": [
        "%%time\n",
        "\n",
        "num_epochs = 50\n",
        "total_step = len(data_loader)\n",
        "d_losses, g_losses, real_scores, fake_scores = [], [], [], []\n",
        "\n",
        "for epoch in range(num_epochs):\n",
        "    for i, (images, _) in enumerate(data_loader):\n",
        "        # Load a batch & transform to vectors\n",
        "        images = images.reshape(batch_size, -1).to(device)\n",
        "        \n",
        "        # Train the discriminator and generator\n",
        "        d_loss, real_score, fake_score = train_discriminator(images)\n",
        "        g_loss, fake_images = train_generator()\n",
        "        \n",
        "        # Inspect the losses\n",
        "        if (i+1) % 200 == 0:\n",
        "            d_losses.append(d_loss.item())\n",
        "            g_losses.append(g_loss.item())\n",
        "            real_scores.append(real_score.mean().item())\n",
        "            fake_scores.append(fake_score.mean().item())\n",
        "            print('Epoch [{}/{}], Step [{}/{}], d_loss: {:.4f}, g_loss: {:.4f}, D(x): {:.2f}, D(G(z)): {:.2f}' \n",
        "                  .format(epoch, num_epochs, i+1, total_step, d_loss.item(), g_loss.item(), \n",
        "                          real_score.mean().item(), fake_score.mean().item()))\n",
        "        \n",
        "    # Sample and save images\n",
        "    save_fake_images(epoch+1)"
      ],
      "execution_count": 0,
      "outputs": [
        {
          "output_type": "stream",
          "text": [
            "/usr/local/lib/python3.6/dist-packages/torch/nn/functional.py:1351: UserWarning: nn.functional.sigmoid is deprecated. Use torch.sigmoid instead.\n",
            "  warnings.warn(\"nn.functional.sigmoid is deprecated. Use torch.sigmoid instead.\")\n",
            "/usr/local/lib/python3.6/dist-packages/torch/nn/modules/loss.py:498: UserWarning: Using a target size (torch.Size([100])) that is different to the input size (torch.Size([100, 1])) is deprecated. Please ensure they have the same size.\n",
            "  return F.binary_cross_entropy(input, target, weight=self.weight, reduction=self.reduction)\n"
          ],
          "name": "stderr"
        },
        {
          "output_type": "stream",
          "text": [
            "Epoch [0/50], Step [200/600], d_loss: 0.1279, g_loss: 4.0235, D(x): 0.97, D(G(z)): 0.09\n",
            "Epoch [0/50], Step [400/600], d_loss: 0.2160, g_loss: 3.3535, D(x): 0.91, D(G(z)): 0.09\n",
            "Epoch [0/50], Step [600/600], d_loss: 0.4591, g_loss: 2.4260, D(x): 0.87, D(G(z)): 0.22\n",
            "Saving fake_images-0001.png\n",
            "Epoch [1/50], Step [200/600], d_loss: 0.3732, g_loss: 4.6863, D(x): 0.93, D(G(z)): 0.18\n",
            "Epoch [1/50], Step [400/600], d_loss: 0.3588, g_loss: 3.3143, D(x): 0.93, D(G(z)): 0.21\n",
            "Epoch [1/50], Step [600/600], d_loss: 0.5473, g_loss: 3.6321, D(x): 0.81, D(G(z)): 0.14\n",
            "Saving fake_images-0002.png\n",
            "Epoch [2/50], Step [200/600], d_loss: 0.4803, g_loss: 2.7532, D(x): 0.92, D(G(z)): 0.26\n",
            "Epoch [2/50], Step [400/600], d_loss: 0.4438, g_loss: 3.5628, D(x): 0.93, D(G(z)): 0.20\n",
            "Epoch [2/50], Step [600/600], d_loss: 1.8402, g_loss: 2.5345, D(x): 0.57, D(G(z)): 0.38\n",
            "Saving fake_images-0003.png\n",
            "Epoch [3/50], Step [200/600], d_loss: 1.5511, g_loss: 1.6017, D(x): 0.55, D(G(z)): 0.38\n",
            "Epoch [3/50], Step [400/600], d_loss: 0.8500, g_loss: 2.2001, D(x): 0.74, D(G(z)): 0.25\n",
            "Epoch [3/50], Step [600/600], d_loss: 0.3379, g_loss: 3.1882, D(x): 0.87, D(G(z)): 0.10\n",
            "Saving fake_images-0004.png\n",
            "Epoch [4/50], Step [200/600], d_loss: 0.8215, g_loss: 2.0468, D(x): 0.69, D(G(z)): 0.17\n",
            "Epoch [4/50], Step [400/600], d_loss: 0.3689, g_loss: 2.9766, D(x): 0.86, D(G(z)): 0.10\n",
            "Epoch [4/50], Step [600/600], d_loss: 0.3026, g_loss: 2.4471, D(x): 0.90, D(G(z)): 0.12\n",
            "Saving fake_images-0005.png\n",
            "Epoch [5/50], Step [200/600], d_loss: 0.2185, g_loss: 4.1572, D(x): 0.92, D(G(z)): 0.03\n",
            "Epoch [5/50], Step [400/600], d_loss: 0.0903, g_loss: 5.5431, D(x): 0.96, D(G(z)): 0.03\n",
            "Epoch [5/50], Step [600/600], d_loss: 0.3227, g_loss: 3.9884, D(x): 0.91, D(G(z)): 0.13\n",
            "Saving fake_images-0006.png\n",
            "Epoch [6/50], Step [200/600], d_loss: 0.1744, g_loss: 2.8249, D(x): 0.98, D(G(z)): 0.13\n",
            "Epoch [6/50], Step [400/600], d_loss: 0.1196, g_loss: 4.1447, D(x): 0.96, D(G(z)): 0.07\n",
            "Epoch [6/50], Step [600/600], d_loss: 0.2952, g_loss: 3.2583, D(x): 0.89, D(G(z)): 0.06\n",
            "Saving fake_images-0007.png\n",
            "Epoch [7/50], Step [200/600], d_loss: 0.2507, g_loss: 4.6082, D(x): 0.94, D(G(z)): 0.10\n",
            "Epoch [7/50], Step [400/600], d_loss: 0.1633, g_loss: 4.6563, D(x): 0.98, D(G(z)): 0.11\n",
            "Epoch [7/50], Step [600/600], d_loss: 0.2517, g_loss: 4.3386, D(x): 0.95, D(G(z)): 0.15\n",
            "Saving fake_images-0008.png\n",
            "Epoch [8/50], Step [200/600], d_loss: 0.1933, g_loss: 4.0857, D(x): 0.93, D(G(z)): 0.05\n",
            "Epoch [8/50], Step [400/600], d_loss: 0.0777, g_loss: 5.5694, D(x): 0.97, D(G(z)): 0.02\n",
            "Epoch [8/50], Step [600/600], d_loss: 0.2025, g_loss: 5.1881, D(x): 0.93, D(G(z)): 0.03\n",
            "Saving fake_images-0009.png\n",
            "Epoch [9/50], Step [200/600], d_loss: 0.2252, g_loss: 4.0490, D(x): 0.95, D(G(z)): 0.14\n",
            "Epoch [9/50], Step [400/600], d_loss: 0.0757, g_loss: 4.7960, D(x): 0.98, D(G(z)): 0.04\n",
            "Epoch [9/50], Step [600/600], d_loss: 0.3686, g_loss: 3.9516, D(x): 0.92, D(G(z)): 0.11\n",
            "Saving fake_images-0010.png\n",
            "Epoch [10/50], Step [200/600], d_loss: 0.4231, g_loss: 4.3776, D(x): 0.86, D(G(z)): 0.04\n",
            "Epoch [10/50], Step [400/600], d_loss: 0.1422, g_loss: 4.0118, D(x): 0.97, D(G(z)): 0.07\n",
            "Epoch [10/50], Step [600/600], d_loss: 0.1314, g_loss: 5.6899, D(x): 0.96, D(G(z)): 0.02\n",
            "Saving fake_images-0011.png\n",
            "Epoch [11/50], Step [200/600], d_loss: 0.1083, g_loss: 5.7358, D(x): 0.96, D(G(z)): 0.02\n",
            "Epoch [11/50], Step [400/600], d_loss: 0.0917, g_loss: 4.6675, D(x): 0.96, D(G(z)): 0.03\n",
            "Epoch [11/50], Step [600/600], d_loss: 0.5439, g_loss: 3.3927, D(x): 0.83, D(G(z)): 0.07\n",
            "Saving fake_images-0012.png\n",
            "Epoch [12/50], Step [200/600], d_loss: 0.0425, g_loss: 6.2550, D(x): 0.98, D(G(z)): 0.01\n",
            "Epoch [12/50], Step [400/600], d_loss: 0.4192, g_loss: 4.4198, D(x): 0.88, D(G(z)): 0.02\n",
            "Epoch [12/50], Step [600/600], d_loss: 0.1647, g_loss: 4.8108, D(x): 0.97, D(G(z)): 0.09\n",
            "Saving fake_images-0013.png\n",
            "Epoch [13/50], Step [200/600], d_loss: 0.0658, g_loss: 4.9446, D(x): 0.98, D(G(z)): 0.04\n",
            "Epoch [13/50], Step [400/600], d_loss: 0.0705, g_loss: 5.8780, D(x): 0.98, D(G(z)): 0.02\n",
            "Epoch [13/50], Step [600/600], d_loss: 0.2292, g_loss: 6.0031, D(x): 0.96, D(G(z)): 0.09\n",
            "Saving fake_images-0014.png\n",
            "Epoch [14/50], Step [200/600], d_loss: 0.2647, g_loss: 4.5561, D(x): 0.91, D(G(z)): 0.08\n",
            "Epoch [14/50], Step [400/600], d_loss: 0.3161, g_loss: 5.3487, D(x): 0.90, D(G(z)): 0.06\n",
            "Epoch [14/50], Step [600/600], d_loss: 0.1775, g_loss: 5.7426, D(x): 0.97, D(G(z)): 0.05\n",
            "Saving fake_images-0015.png\n",
            "Epoch [15/50], Step [200/600], d_loss: 0.2745, g_loss: 3.6397, D(x): 0.92, D(G(z)): 0.06\n",
            "Epoch [15/50], Step [400/600], d_loss: 0.4765, g_loss: 3.9304, D(x): 0.94, D(G(z)): 0.23\n",
            "Epoch [15/50], Step [600/600], d_loss: 0.2706, g_loss: 4.8848, D(x): 0.94, D(G(z)): 0.13\n",
            "Saving fake_images-0016.png\n",
            "Epoch [16/50], Step [200/600], d_loss: 0.1345, g_loss: 6.8721, D(x): 0.98, D(G(z)): 0.07\n",
            "Epoch [16/50], Step [400/600], d_loss: 0.3021, g_loss: 5.2287, D(x): 0.91, D(G(z)): 0.07\n",
            "Epoch [16/50], Step [600/600], d_loss: 0.1574, g_loss: 3.2775, D(x): 0.94, D(G(z)): 0.06\n",
            "Saving fake_images-0017.png\n",
            "Epoch [17/50], Step [200/600], d_loss: 0.3493, g_loss: 3.8524, D(x): 0.87, D(G(z)): 0.06\n",
            "Epoch [17/50], Step [400/600], d_loss: 0.5568, g_loss: 3.5217, D(x): 0.83, D(G(z)): 0.05\n",
            "Epoch [17/50], Step [600/600], d_loss: 0.4005, g_loss: 3.8764, D(x): 0.92, D(G(z)): 0.14\n",
            "Saving fake_images-0018.png\n",
            "Epoch [18/50], Step [200/600], d_loss: 0.2113, g_loss: 4.7481, D(x): 0.93, D(G(z)): 0.05\n",
            "Epoch [18/50], Step [400/600], d_loss: 0.4748, g_loss: 3.6698, D(x): 0.88, D(G(z)): 0.10\n",
            "Epoch [18/50], Step [600/600], d_loss: 0.2705, g_loss: 5.9509, D(x): 0.90, D(G(z)): 0.06\n",
            "Saving fake_images-0019.png\n",
            "Epoch [19/50], Step [200/600], d_loss: 0.3314, g_loss: 4.0088, D(x): 0.87, D(G(z)): 0.06\n",
            "Epoch [19/50], Step [400/600], d_loss: 0.3273, g_loss: 2.9660, D(x): 0.91, D(G(z)): 0.12\n",
            "Epoch [19/50], Step [600/600], d_loss: 0.3662, g_loss: 4.9848, D(x): 0.96, D(G(z)): 0.18\n",
            "Saving fake_images-0020.png\n",
            "Epoch [20/50], Step [200/600], d_loss: 0.2674, g_loss: 4.0234, D(x): 0.90, D(G(z)): 0.03\n",
            "Epoch [20/50], Step [400/600], d_loss: 0.2679, g_loss: 4.8446, D(x): 0.93, D(G(z)): 0.11\n",
            "Epoch [20/50], Step [600/600], d_loss: 0.2766, g_loss: 3.4242, D(x): 0.89, D(G(z)): 0.07\n",
            "Saving fake_images-0021.png\n",
            "Epoch [21/50], Step [200/600], d_loss: 0.2253, g_loss: 4.8533, D(x): 0.96, D(G(z)): 0.11\n",
            "Epoch [21/50], Step [400/600], d_loss: 0.4084, g_loss: 4.2566, D(x): 0.92, D(G(z)): 0.19\n",
            "Epoch [21/50], Step [600/600], d_loss: 0.3045, g_loss: 3.0566, D(x): 0.92, D(G(z)): 0.12\n",
            "Saving fake_images-0022.png\n",
            "Epoch [22/50], Step [200/600], d_loss: 0.1786, g_loss: 3.6538, D(x): 0.95, D(G(z)): 0.09\n",
            "Epoch [22/50], Step [400/600], d_loss: 0.3888, g_loss: 4.7894, D(x): 0.88, D(G(z)): 0.10\n",
            "Epoch [22/50], Step [600/600], d_loss: 0.1664, g_loss: 4.6794, D(x): 0.97, D(G(z)): 0.10\n",
            "Saving fake_images-0023.png\n",
            "Epoch [23/50], Step [200/600], d_loss: 0.3586, g_loss: 3.5765, D(x): 0.92, D(G(z)): 0.17\n",
            "Epoch [23/50], Step [400/600], d_loss: 0.4642, g_loss: 3.7771, D(x): 0.85, D(G(z)): 0.09\n",
            "Epoch [23/50], Step [600/600], d_loss: 0.3731, g_loss: 3.9233, D(x): 0.87, D(G(z)): 0.07\n",
            "Saving fake_images-0024.png\n",
            "Epoch [24/50], Step [200/600], d_loss: 0.3371, g_loss: 2.7951, D(x): 0.90, D(G(z)): 0.13\n",
            "Epoch [24/50], Step [400/600], d_loss: 0.2946, g_loss: 3.7924, D(x): 0.88, D(G(z)): 0.06\n",
            "Epoch [24/50], Step [600/600], d_loss: 0.3933, g_loss: 2.9162, D(x): 0.87, D(G(z)): 0.13\n",
            "Saving fake_images-0025.png\n",
            "Epoch [25/50], Step [200/600], d_loss: 0.4659, g_loss: 3.8035, D(x): 0.86, D(G(z)): 0.08\n",
            "Epoch [25/50], Step [400/600], d_loss: 0.3466, g_loss: 4.1088, D(x): 0.90, D(G(z)): 0.13\n",
            "Epoch [25/50], Step [600/600], d_loss: 0.2932, g_loss: 3.5846, D(x): 0.94, D(G(z)): 0.14\n",
            "Saving fake_images-0026.png\n",
            "Epoch [26/50], Step [200/600], d_loss: 0.3469, g_loss: 3.9489, D(x): 0.86, D(G(z)): 0.04\n",
            "Epoch [26/50], Step [400/600], d_loss: 0.3430, g_loss: 4.1501, D(x): 0.88, D(G(z)): 0.07\n",
            "Epoch [26/50], Step [600/600], d_loss: 0.3304, g_loss: 4.1915, D(x): 0.84, D(G(z)): 0.02\n",
            "Saving fake_images-0027.png\n",
            "Epoch [27/50], Step [200/600], d_loss: 0.2581, g_loss: 4.7176, D(x): 0.96, D(G(z)): 0.11\n",
            "Epoch [27/50], Step [400/600], d_loss: 0.5094, g_loss: 4.7352, D(x): 0.85, D(G(z)): 0.11\n",
            "Epoch [27/50], Step [600/600], d_loss: 0.7378, g_loss: 2.4722, D(x): 0.87, D(G(z)): 0.26\n",
            "Saving fake_images-0028.png\n",
            "Epoch [28/50], Step [200/600], d_loss: 0.1989, g_loss: 2.9084, D(x): 0.94, D(G(z)): 0.10\n",
            "Epoch [28/50], Step [400/600], d_loss: 0.3160, g_loss: 3.8349, D(x): 0.87, D(G(z)): 0.02\n",
            "Epoch [28/50], Step [600/600], d_loss: 0.3838, g_loss: 3.8627, D(x): 0.86, D(G(z)): 0.06\n",
            "Saving fake_images-0029.png\n",
            "Epoch [29/50], Step [200/600], d_loss: 0.3622, g_loss: 3.7444, D(x): 0.87, D(G(z)): 0.10\n",
            "Epoch [29/50], Step [400/600], d_loss: 0.3694, g_loss: 4.1340, D(x): 0.95, D(G(z)): 0.20\n",
            "Epoch [29/50], Step [600/600], d_loss: 0.5157, g_loss: 2.6578, D(x): 0.80, D(G(z)): 0.07\n",
            "Saving fake_images-0030.png\n",
            "Epoch [30/50], Step [200/600], d_loss: 0.1766, g_loss: 4.3157, D(x): 0.90, D(G(z)): 0.03\n",
            "Epoch [30/50], Step [400/600], d_loss: 0.3425, g_loss: 2.7129, D(x): 0.88, D(G(z)): 0.13\n",
            "Epoch [30/50], Step [600/600], d_loss: 0.3922, g_loss: 3.8231, D(x): 0.86, D(G(z)): 0.09\n",
            "Saving fake_images-0031.png\n",
            "Epoch [31/50], Step [200/600], d_loss: 0.4860, g_loss: 2.7989, D(x): 0.80, D(G(z)): 0.07\n",
            "Epoch [31/50], Step [400/600], d_loss: 0.5145, g_loss: 2.1797, D(x): 0.83, D(G(z)): 0.15\n",
            "Epoch [31/50], Step [600/600], d_loss: 0.6482, g_loss: 3.2613, D(x): 0.85, D(G(z)): 0.19\n",
            "Saving fake_images-0032.png\n",
            "Epoch [32/50], Step [200/600], d_loss: 0.4010, g_loss: 2.1569, D(x): 0.91, D(G(z)): 0.19\n",
            "Epoch [32/50], Step [400/600], d_loss: 0.5612, g_loss: 2.5390, D(x): 0.84, D(G(z)): 0.17\n",
            "Epoch [32/50], Step [600/600], d_loss: 0.8291, g_loss: 2.4291, D(x): 0.84, D(G(z)): 0.25\n",
            "Saving fake_images-0033.png\n",
            "Epoch [33/50], Step [200/600], d_loss: 0.5652, g_loss: 2.5449, D(x): 0.82, D(G(z)): 0.15\n",
            "Epoch [33/50], Step [400/600], d_loss: 0.4596, g_loss: 2.7304, D(x): 0.88, D(G(z)): 0.15\n",
            "Epoch [33/50], Step [600/600], d_loss: 0.4334, g_loss: 3.2312, D(x): 0.91, D(G(z)): 0.22\n",
            "Saving fake_images-0034.png\n",
            "Epoch [34/50], Step [200/600], d_loss: 0.4288, g_loss: 2.9456, D(x): 0.87, D(G(z)): 0.15\n",
            "Epoch [34/50], Step [400/600], d_loss: 0.5703, g_loss: 3.4469, D(x): 0.81, D(G(z)): 0.11\n",
            "Epoch [34/50], Step [600/600], d_loss: 0.4848, g_loss: 3.3753, D(x): 0.90, D(G(z)): 0.22\n",
            "Saving fake_images-0035.png\n",
            "Epoch [35/50], Step [200/600], d_loss: 0.4076, g_loss: 3.7669, D(x): 0.84, D(G(z)): 0.08\n",
            "Epoch [35/50], Step [400/600], d_loss: 0.3857, g_loss: 4.2680, D(x): 0.88, D(G(z)): 0.13\n",
            "Epoch [35/50], Step [600/600], d_loss: 0.3608, g_loss: 3.5214, D(x): 0.87, D(G(z)): 0.12\n",
            "Saving fake_images-0036.png\n",
            "Epoch [36/50], Step [200/600], d_loss: 0.5147, g_loss: 4.3866, D(x): 0.82, D(G(z)): 0.04\n",
            "Epoch [36/50], Step [400/600], d_loss: 0.5504, g_loss: 4.3765, D(x): 0.81, D(G(z)): 0.09\n",
            "Epoch [36/50], Step [600/600], d_loss: 0.3643, g_loss: 3.4743, D(x): 0.87, D(G(z)): 0.11\n",
            "Saving fake_images-0037.png\n",
            "Epoch [37/50], Step [200/600], d_loss: 0.3380, g_loss: 3.5534, D(x): 0.93, D(G(z)): 0.16\n",
            "Epoch [37/50], Step [400/600], d_loss: 0.4715, g_loss: 2.9449, D(x): 0.90, D(G(z)): 0.18\n",
            "Epoch [37/50], Step [600/600], d_loss: 0.3000, g_loss: 2.6253, D(x): 0.89, D(G(z)): 0.10\n",
            "Saving fake_images-0038.png\n",
            "Epoch [38/50], Step [200/600], d_loss: 0.3167, g_loss: 3.2547, D(x): 0.91, D(G(z)): 0.11\n",
            "Epoch [38/50], Step [400/600], d_loss: 0.4088, g_loss: 3.6451, D(x): 0.84, D(G(z)): 0.10\n",
            "Epoch [38/50], Step [600/600], d_loss: 0.3371, g_loss: 3.1720, D(x): 0.92, D(G(z)): 0.13\n",
            "Saving fake_images-0039.png\n",
            "Epoch [39/50], Step [200/600], d_loss: 0.4191, g_loss: 3.1713, D(x): 0.92, D(G(z)): 0.19\n",
            "Epoch [39/50], Step [400/600], d_loss: 0.5932, g_loss: 3.0630, D(x): 0.86, D(G(z)): 0.17\n",
            "Epoch [39/50], Step [600/600], d_loss: 0.6402, g_loss: 3.3531, D(x): 0.77, D(G(z)): 0.07\n",
            "Saving fake_images-0040.png\n",
            "Epoch [40/50], Step [200/600], d_loss: 0.4635, g_loss: 3.7280, D(x): 0.85, D(G(z)): 0.13\n",
            "Epoch [40/50], Step [400/600], d_loss: 0.4737, g_loss: 2.6269, D(x): 0.88, D(G(z)): 0.18\n",
            "Epoch [40/50], Step [600/600], d_loss: 0.4313, g_loss: 3.1577, D(x): 0.83, D(G(z)): 0.10\n",
            "Saving fake_images-0041.png\n",
            "Epoch [41/50], Step [200/600], d_loss: 0.4871, g_loss: 2.5275, D(x): 0.88, D(G(z)): 0.18\n",
            "Epoch [41/50], Step [400/600], d_loss: 0.6228, g_loss: 2.6875, D(x): 0.76, D(G(z)): 0.10\n",
            "Epoch [41/50], Step [600/600], d_loss: 0.4382, g_loss: 2.7808, D(x): 0.86, D(G(z)): 0.12\n",
            "Saving fake_images-0042.png\n",
            "Epoch [42/50], Step [200/600], d_loss: 0.4929, g_loss: 2.7667, D(x): 0.80, D(G(z)): 0.10\n",
            "Epoch [42/50], Step [400/600], d_loss: 0.6348, g_loss: 2.6180, D(x): 0.84, D(G(z)): 0.21\n",
            "Epoch [42/50], Step [600/600], d_loss: 0.6014, g_loss: 2.8162, D(x): 0.83, D(G(z)): 0.17\n",
            "Saving fake_images-0043.png\n",
            "Epoch [43/50], Step [200/600], d_loss: 0.5059, g_loss: 2.1592, D(x): 0.84, D(G(z)): 0.14\n",
            "Epoch [43/50], Step [400/600], d_loss: 0.3574, g_loss: 2.9599, D(x): 0.87, D(G(z)): 0.13\n",
            "Epoch [43/50], Step [600/600], d_loss: 0.6965, g_loss: 2.4631, D(x): 0.81, D(G(z)): 0.22\n",
            "Saving fake_images-0044.png\n",
            "Epoch [44/50], Step [200/600], d_loss: 0.4090, g_loss: 2.6610, D(x): 0.87, D(G(z)): 0.13\n",
            "Epoch [44/50], Step [400/600], d_loss: 0.6252, g_loss: 2.9216, D(x): 0.77, D(G(z)): 0.10\n",
            "Epoch [44/50], Step [600/600], d_loss: 0.5123, g_loss: 2.3967, D(x): 0.87, D(G(z)): 0.21\n",
            "Saving fake_images-0045.png\n",
            "Epoch [45/50], Step [200/600], d_loss: 0.5794, g_loss: 3.8504, D(x): 0.87, D(G(z)): 0.18\n",
            "Epoch [45/50], Step [400/600], d_loss: 0.3535, g_loss: 3.5043, D(x): 0.87, D(G(z)): 0.12\n",
            "Epoch [45/50], Step [600/600], d_loss: 0.5997, g_loss: 2.7848, D(x): 0.85, D(G(z)): 0.23\n",
            "Saving fake_images-0046.png\n",
            "Epoch [46/50], Step [200/600], d_loss: 0.5273, g_loss: 3.4522, D(x): 0.80, D(G(z)): 0.11\n",
            "Epoch [46/50], Step [400/600], d_loss: 0.3518, g_loss: 2.7594, D(x): 0.89, D(G(z)): 0.15\n",
            "Epoch [46/50], Step [600/600], d_loss: 0.4439, g_loss: 4.1758, D(x): 0.87, D(G(z)): 0.17\n",
            "Saving fake_images-0047.png\n",
            "Epoch [47/50], Step [200/600], d_loss: 0.4186, g_loss: 3.1505, D(x): 0.90, D(G(z)): 0.19\n",
            "Epoch [47/50], Step [400/600], d_loss: 0.5556, g_loss: 3.6133, D(x): 0.79, D(G(z)): 0.08\n",
            "Epoch [47/50], Step [600/600], d_loss: 0.5561, g_loss: 2.2643, D(x): 0.85, D(G(z)): 0.19\n",
            "Saving fake_images-0048.png\n",
            "Epoch [48/50], Step [200/600], d_loss: 0.5044, g_loss: 2.5771, D(x): 0.84, D(G(z)): 0.16\n",
            "Epoch [48/50], Step [400/600], d_loss: 0.5721, g_loss: 3.4363, D(x): 0.82, D(G(z)): 0.15\n",
            "Epoch [48/50], Step [600/600], d_loss: 0.6216, g_loss: 2.3238, D(x): 0.84, D(G(z)): 0.24\n",
            "Saving fake_images-0049.png\n",
            "Epoch [49/50], Step [200/600], d_loss: 0.6340, g_loss: 2.7944, D(x): 0.88, D(G(z)): 0.26\n",
            "Epoch [49/50], Step [400/600], d_loss: 0.6716, g_loss: 2.8438, D(x): 0.87, D(G(z)): 0.27\n",
            "Epoch [49/50], Step [600/600], d_loss: 0.8861, g_loss: 2.6652, D(x): 0.72, D(G(z)): 0.14\n",
            "Saving fake_images-0050.png\n",
            "CPU times: user 13min 58s, sys: 11 s, total: 14min 9s\n",
            "Wall time: 14min 14s\n"
          ],
          "name": "stdout"
        }
      ]
    },
    {
      "cell_type": "code",
      "metadata": {
        "id": "AnZlT7pTmAMy",
        "colab_type": "code",
        "colab": {}
      },
      "source": [
        "#Save the model\n",
        "\n",
        "torch.save(G.state_dict(), 'G.ckpt')\n",
        "torch.save(D.state_dict(), 'D.ckpt')"
      ],
      "execution_count": 0,
      "outputs": []
    },
    {
      "cell_type": "markdown",
      "metadata": {
        "id": "-Cdz6HGbpvdO",
        "colab_type": "text"
      },
      "source": [
        "##### Creating a video of the GAN output on the noise"
      ]
    },
    {
      "cell_type": "code",
      "metadata": {
        "id": "t3PNZoojBSc0",
        "colab_type": "code",
        "outputId": "45c734f6-7006-43fd-a1df-c4a006b00cb2",
        "colab": {
          "base_uri": "https://localhost:8080/",
          "height": 34
        }
      },
      "source": [
        "import cv2\n",
        "import os\n",
        "from IPython.display import FileLink\n",
        "\n",
        "vid_fname = 'gans_training.avi'\n",
        "\n",
        "files = [os.path.join(sample_dir, f) for f in os.listdir(sample_dir) if 'fake_images' in f]\n",
        "files.sort()\n",
        "\n",
        "out = cv2.VideoWriter(vid_fname,cv2.VideoWriter_fourcc(*'MP4V'), 8, (302,302))\n",
        "[out.write(cv2.imread(fname)) for fname in files]\n",
        "out.release()\n",
        "FileLink('gans_training.avi')"
      ],
      "execution_count": 0,
      "outputs": [
        {
          "output_type": "execute_result",
          "data": {
            "text/html": [
              "<a href='gans_training.avi' target='_blank'>gans_training.avi</a><br>"
            ],
            "text/plain": [
              "/content/gans_training.avi"
            ]
          },
          "metadata": {
            "tags": []
          },
          "execution_count": 147
        }
      ]
    },
    {
      "cell_type": "markdown",
      "metadata": {
        "id": "4S_7qpsip2BI",
        "colab_type": "text"
      },
      "source": [
        "# Visualizing Losses"
      ]
    },
    {
      "cell_type": "code",
      "metadata": {
        "id": "70eq4lGsD3aC",
        "colab_type": "code",
        "outputId": "b89a5576-550a-4046-a325-327f8df0696f",
        "colab": {
          "base_uri": "https://localhost:8080/",
          "height": 295
        }
      },
      "source": [
        "plt.plot(d_losses, '-')\n",
        "plt.plot(g_losses, '-')\n",
        "plt.xlabel('epoch')\n",
        "plt.ylabel('loss')\n",
        "plt.legend(['Discriminator', 'Generator'])\n",
        "plt.title('Losses');"
      ],
      "execution_count": 0,
      "outputs": [
        {
          "output_type": "display_data",
          "data": {
            "image/png": "[encoded data removed]",
            "text/plain": [
              "<Figure size 432x288 with 1 Axes>"
            ]
          },
          "metadata": {
            "tags": []
          }
        }
      ]
    },
    {
      "cell_type": "markdown",
      "metadata": {
        "id": "nJ0h-pc9p-zN",
        "colab_type": "text"
      },
      "source": [
        "##### Plotting the probabilities of the Discriminator predicting real on true images and false on generator images"
      ]
    },
    {
      "cell_type": "code",
      "metadata": {
        "id": "oyMCtWcKD3Yl",
        "colab_type": "code",
        "outputId": "8357b7d7-c457-4fbf-da78-2c6af679dfe5",
        "colab": {
          "base_uri": "https://localhost:8080/",
          "height": 295
        }
      },
      "source": [
        "plt.plot(real_scores, '-')\n",
        "plt.plot(fake_scores, '-')\n",
        "plt.xlabel('epoch')\n",
        "plt.ylabel('score')\n",
        "plt.legend(['Real Score', 'Fake score'])\n",
        "plt.title('Scores');"
      ],
      "execution_count": 0,
      "outputs": [
        {
          "output_type": "display_data",
          "data": {
            "image/png": "[encoded data removed]",
            "text/plain": [
              "<Figure size 432x288 with 1 Axes>"
            ]
          },
          "metadata": {
            "tags": []
          }
        }
      ]
    }
  ]
}
